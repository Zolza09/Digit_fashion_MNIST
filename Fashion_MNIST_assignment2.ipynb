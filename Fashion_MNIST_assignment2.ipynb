{
 "cells": [
  {
   "cell_type": "code",
   "execution_count": 1,
   "metadata": {
    "collapsed": true
   },
   "outputs": [],
   "source": [
    "import numpy as np\n",
    "from scipy import misc\n",
    "from sklearn.decomposition import PCA\n",
    "import matplotlib.pyplot as plt\n",
    "import cv2\n",
    "import glob\n",
    "import pandas as pd \n",
    "import matplotlib.pyplot as plt \n",
    "import matplotlib.image as matimage\n",
    "%matplotlib inline "
   ]
  },
  {
   "cell_type": "markdown",
   "metadata": {},
   "source": [
    "# Read train and test datasets"
   ]
  },
  {
   "cell_type": "code",
   "execution_count": 2,
   "metadata": {
    "collapsed": false
   },
   "outputs": [],
   "source": [
    "train = pd.read_csv('fashion_dataset/train.csv')\n",
    "test = pd.read_csv('fashion_dataset/test.csv')"
   ]
  },
  {
   "cell_type": "code",
   "execution_count": 3,
   "metadata": {
    "collapsed": false
   },
   "outputs": [
    {
     "data": {
      "text/plain": [
       "(60000, 785)"
      ]
     },
     "execution_count": 3,
     "metadata": {},
     "output_type": "execute_result"
    }
   ],
   "source": [
    "X_train = np.array(train.iloc[:, 1:])\n",
    "y_train = np.array(train.iloc[:, 0]) # target values of training dataset\n",
    "X_test =  np.array(test.iloc[:, 1:])\n",
    "y_test = np.array(test.iloc[:, 0]) # target values of testing dataset\n",
    "train.shape"
   ]
  },
  {
   "cell_type": "code",
   "execution_count": 4,
   "metadata": {
    "collapsed": false
   },
   "outputs": [
    {
     "data": {
      "image/png": "[encoded data removed]",
      "text/plain": [
       "<matplotlib.figure.Figure at 0x244f2e907f0>"
      ]
     },
     "metadata": {},
     "output_type": "display_data"
    }
   ],
   "source": [
    "n_row = 1\n",
    "n_col = 5\n",
    "plt.figure(figsize=(10,8))\n",
    "for i in list(range(n_row*n_col)):\n",
    "    plt.subplot(n_row, n_col, i+1)\n",
    "    plt.imshow(X_train[i,:].reshape(28,28), cmap=\"gray\")\n",
    "    title_text = \"Image\" + str(i+1)\n",
    "    plt.title(title_text, size=6.5)\n",
    "\n",
    "plt.show()"
   ]
  },
  {
   "cell_type": "markdown",
   "metadata": {},
   "source": [
    "# Preprocessing Normalized all of the datasets\n"
   ]
  },
  {
   "cell_type": "code",
   "execution_count": 5,
   "metadata": {
    "collapsed": false
   },
   "outputs": [
    {
     "name": "stderr",
     "output_type": "stream",
     "text": [
      "C:\\Users\\Zoloo\\Anaconda3\\lib\\site-packages\\sklearn\\utils\\validation.py:429: DataConversionWarning: Data with input dtype int64 was converted to float64 by StandardScaler.\n",
      "  warnings.warn(msg, _DataConversionWarning)\n"
     ]
    }
   ],
   "source": [
    "from sklearn.preprocessing import StandardScaler\n",
    "X_train = StandardScaler().fit_transform(X_train)\n",
    "X_test = StandardScaler().fit_transform(X_test)"
   ]
  },
  {
   "cell_type": "code",
   "execution_count": 6,
   "metadata": {
    "collapsed": false
   },
   "outputs": [
    {
     "data": {
      "image/png": "[encoded data removed]",
      "text/plain": [
       "<matplotlib.figure.Figure at 0x244fd04e518>"
      ]
     },
     "metadata": {},
     "output_type": "display_data"
    }
   ],
   "source": [
    "n_row = 1\n",
    "n_col = 5\n",
    "plt.figure(figsize=(10,8))\n",
    "for i in list(range(n_row*n_col)):\n",
    "    plt.subplot(n_row, n_col, i+1)\n",
    "    plt.imshow(X_train[i,:].reshape(28,28), cmap=\"gray\")\n",
    "    title_text = \"Image\" + str(i+1)\n",
    "    plt.title(title_text, size=6.5)\n",
    "\n",
    "plt.show()"
   ]
  },
  {
   "cell_type": "markdown",
   "metadata": {},
   "source": [
    "# Find eigenvectors and eigenvalues, compute covariance matrix"
   ]
  },
  {
   "cell_type": "code",
   "execution_count": 7,
   "metadata": {
    "collapsed": false
   },
   "outputs": [
    {
     "name": "stdout",
     "output_type": "stream",
     "text": [
      "Shape of Covariance matrix (784, 784)\n"
     ]
    }
   ],
   "source": [
    "mean_vec = np.mean(X_train, axis=0)\n",
    "cov_mat = np.cov(X_train.T)\n",
    "eig_vals, eig_vecs = np.linalg.eig(cov_mat)\n",
    "print(\"Shape of Covariance matrix\", cov_mat.shape)\n",
    "eig_pairs = [(np.abs(eig_vals[i]),eig_vecs[:,i]) for i in range(len(eig_vals))]\n",
    "eig_pairs.sort(key = lambda x: x[0], reverse=True)\n",
    "tot = sum(eig_vals)\n",
    "var_exp = [(i/tot)*100 for i in sorted(eig_vals, reverse=True)]\n",
    "cum_var_exp = np.cumsum(var_exp) # Cumulative explained variance"
   ]
  },
  {
   "cell_type": "code",
   "execution_count": 10,
   "metadata": {
    "collapsed": false
   },
   "outputs": [
    {
     "name": "stdout",
     "output_type": "stream",
     "text": [
      "first 400 components average variance: 97.76\n"
     ]
    }
   ],
   "source": [
    "add =0.0\n",
    "for i in range(400):\n",
    "    add+= var_exp[i]\n",
    "\n",
    "print('first 400 components average variance: %.2f' % add)  "
   ]
  },
  {
   "cell_type": "code",
   "execution_count": 11,
   "metadata": {
    "collapsed": false
   },
   "outputs": [
    {
     "data": {
      "image/png": "[encoded data removed]",
      "text/plain": [
       "<matplotlib.figure.Figure at 0x244b9cafeb8>"
      ]
     },
     "metadata": {},
     "output_type": "display_data"
    }
   ],
   "source": [
    "size = 400\n",
    "plt.figure(figsize=(6,4))\n",
    "plt.bar(range(size), var_exp[0:size], align='center');\n",
    "plt.xlabel(\"Principal components\")\n",
    "plt.ylabel(\"Explained variance ratio\");"
   ]
  },
  {
   "cell_type": "markdown",
   "metadata": {},
   "source": [
    "# Using PCA reduce dimensionality\n"
   ]
  },
  {
   "cell_type": "code",
   "execution_count": 12,
   "metadata": {
    "collapsed": true
   },
   "outputs": [],
   "source": [
    "from sklearn.decomposition import PCA\n",
    "\n",
    "n_components = 400\n",
    "pca = PCA(n_components=n_components)\n",
    "X_train_pca = pca.fit_transform(X_train)\n",
    "X_test_pca = pca.fit_transform(X_test)"
   ]
  },
  {
   "cell_type": "code",
   "execution_count": 13,
   "metadata": {
    "collapsed": false
   },
   "outputs": [
    {
     "name": "stdout",
     "output_type": "stream",
     "text": [
      "Eigenvalues shape: (400, 784)\n"
     ]
    },
    {
     "data": {
      "image/png": "[encoded data removed]",
      "text/plain": [
       "<matplotlib.figure.Figure at 0x244baee2828>"
      ]
     },
     "metadata": {},
     "output_type": "display_data"
    }
   ],
   "source": [
    "eigenvalues = pca.components_.reshape(n_components, 28, 28)\n",
    "eigenvalues = pca.components_\n",
    "print(\"Eigenvalues shape:\", eigenvalues.shape)\n",
    "\n",
    "n_row = 1\n",
    "n_col = 5\n",
    "plt.figure(figsize=(10,8))\n",
    "for i in list(range(n_row*n_col)):\n",
    "    plt.subplot(n_row, n_col, i+1)\n",
    "    plt.imshow(eigenvalues[i,:].reshape(28,28), cmap=\"gray\")\n",
    "    title_text = \"Image\" + str(i+1)\n",
    "    plt.title(title_text, size=6.5)\n",
    "\n",
    "plt.show()"
   ]
  },
  {
   "cell_type": "markdown",
   "metadata": {},
   "source": [
    "# Classification"
   ]
  },
  {
   "cell_type": "code",
   "execution_count": 14,
   "metadata": {
    "collapsed": true
   },
   "outputs": [],
   "source": [
    "from sklearn.naive_bayes import GaussianNB\n",
    "from sklearn.svm import SVC\n",
    "from sklearn.neural_network import MLPClassifier\n",
    "from sklearn import metrics"
   ]
  },
  {
   "cell_type": "markdown",
   "metadata": {},
   "source": [
    "# Gaussian classifier\n"
   ]
  },
  {
   "cell_type": "code",
   "execution_count": 15,
   "metadata": {
    "collapsed": false
   },
   "outputs": [
    {
     "name": "stdout",
     "output_type": "stream",
     "text": [
      "             precision    recall  f1-score   support\n",
      "\n",
      "          0       0.58      0.37      0.45      1000\n",
      "          1       0.61      0.79      0.69      1000\n",
      "          2       0.43      0.29      0.34      1000\n",
      "          3       0.63      0.49      0.55      1000\n",
      "          4       0.36      0.68      0.47      1000\n",
      "          5       0.54      0.42      0.47      1000\n",
      "          6       0.09      0.10      0.10      1000\n",
      "          7       0.69      0.61      0.65      1000\n",
      "          8       0.47      0.63      0.54      1000\n",
      "          9       0.72      0.41      0.52      1000\n",
      "\n",
      "avg / total       0.51      0.48      0.48     10000\n",
      "\n",
      "The average_accuracy is 47.9%\n"
     ]
    }
   ],
   "source": [
    "gNB = GaussianNB()\n",
    "gNB.fit(X_train_pca,y_train)\n",
    "nb_predict = gNB.predict(X_test_pca)\n",
    "\n",
    "print(metrics.classification_report(y_test, nb_predict))\n",
    "accuracy = metrics.accuracy_score(y_test, nb_predict)\n",
    "average_accuracy = np.mean(y_test == nb_predict) * 100\n",
    "print(\"The average_accuracy is {0:.1f}%\".format(average_accuracy))"
   ]
  },
  {
   "cell_type": "markdown",
   "metadata": {},
   "source": [
    "# SVM classifier with default parameters"
   ]
  },
  {
   "cell_type": "code",
   "execution_count": null,
   "metadata": {
    "collapsed": false
   },
   "outputs": [],
   "source": [
    "svm = SVC()\n",
    "svm.fit(X_train_pca,y_train)\n",
    "svm_predict = svm.predict(X_test_pca)\n",
    "\n",
    "print(metrics.classification_report(y_test, svm_predict))\n",
    "accuracy = metrics.accuracy_score(y_test, svm_predict)\n",
    "average_accuracy = np.mean(y_test == svm_predict) * 100\n",
    "print(\"The average_accuracy is {0:.1f}%\".format(average_accuracy))"
   ]
  },
  {
   "cell_type": "markdown",
   "metadata": {},
   "source": [
    "# MLP classifier with default parameters"
   ]
  },
  {
   "cell_type": "code",
   "execution_count": 51,
   "metadata": {
    "collapsed": false
   },
   "outputs": [
    {
     "name": "stdout",
     "output_type": "stream",
     "text": [
      "             precision    recall  f1-score   support\n",
      "\n",
      "          0       0.52      0.71      0.60      1000\n",
      "          1       0.95      0.84      0.89      1000\n",
      "          2       0.46      0.42      0.44      1000\n",
      "          3       0.65      0.56      0.60      1000\n",
      "          4       0.52      0.51      0.51      1000\n",
      "          5       0.63      0.58      0.61      1000\n",
      "          6       0.32      0.36      0.34      1000\n",
      "          7       0.70      0.62      0.66      1000\n",
      "          8       0.80      0.83      0.81      1000\n",
      "          9       0.78      0.79      0.79      1000\n",
      "\n",
      "avg / total       0.63      0.62      0.62     10000\n",
      "\n",
      "The average_accuracy is 62.2%\n"
     ]
    }
   ],
   "source": [
    "MLP= MLPClassifier()\n",
    "MLP.fit(X_train_pca,y_train)\n",
    "mlp_predict = MLP.predict(X_test_pca)\n",
    "\n",
    "print(metrics.classification_report(y_test, mlp_predict))\n",
    "accuracy = metrics.accuracy_score(y_test, mlp_predict)\n",
    "average_accuracy = np.mean(y_test == mlp_predict) * 100\n",
    "print(\"The average_accuracy is {0:.1f}%\".format(average_accuracy))"
   ]
  },
  {
   "cell_type": "markdown",
   "metadata": {},
   "source": [
    "# Preprocessing binarizer\n"
   ]
  },
  {
   "cell_type": "code",
   "execution_count": 52,
   "metadata": {
    "collapsed": false
   },
   "outputs": [
    {
     "data": {
      "text/plain": [
       "(60000, 784)"
      ]
     },
     "execution_count": 52,
     "metadata": {},
     "output_type": "execute_result"
    }
   ],
   "source": [
    "from sklearn.preprocessing import Binarizer\n",
    "binarizer = Binarizer()\n",
    "train_binary = binarizer.fit_transform(X_train) \n",
    "test_binary = binarizer.fit_transform(X_test)\n",
    "train_binary.shape"
   ]
  },
  {
   "cell_type": "code",
   "execution_count": 53,
   "metadata": {
    "collapsed": false
   },
   "outputs": [
    {
     "data": {
      "image/png": "[encoded data removed]",
      "text/plain": [
       "<matplotlib.figure.Figure at 0x2448ae17a90>"
      ]
     },
     "metadata": {},
     "output_type": "display_data"
    }
   ],
   "source": [
    "n_row = 1\n",
    "n_col = 5\n",
    "plt.figure(figsize=(10,8))\n",
    "for i in list(range(n_row*n_col)):\n",
    "    plt.subplot(n_row, n_col, i+1)\n",
    "    plt.imshow(train_binary[i,:].reshape(28,28), cmap=\"binary\")\n",
    "    title_text = \"Image\" + str(i+1)\n",
    "    plt.title(title_text, size=6.5)\n",
    "\n",
    "plt.show()"
   ]
  },
  {
   "cell_type": "markdown",
   "metadata": {},
   "source": [
    "# Gaussian classifier\n"
   ]
  },
  {
   "cell_type": "code",
   "execution_count": 54,
   "metadata": {
    "collapsed": false
   },
   "outputs": [
    {
     "name": "stdout",
     "output_type": "stream",
     "text": [
      "             precision    recall  f1-score   support\n",
      "\n",
      "          0       0.79      0.70      0.74      1000\n",
      "          1       0.68      0.94      0.79      1000\n",
      "          2       0.63      0.42      0.50      1000\n",
      "          3       0.46      0.58      0.52      1000\n",
      "          4       0.43      0.70      0.53      1000\n",
      "          5       0.84      0.26      0.40      1000\n",
      "          6       0.40      0.14      0.20      1000\n",
      "          7       0.49      0.97      0.65      1000\n",
      "          8       0.82      0.73      0.77      1000\n",
      "          9       0.89      0.60      0.72      1000\n",
      "\n",
      "avg / total       0.64      0.60      0.58     10000\n",
      "\n",
      "The average_accuracy is 60.4%\n"
     ]
    }
   ],
   "source": [
    "gNB = GaussianNB()\n",
    "gNB.fit(train_binary,y_train)\n",
    "nb_predict = gNB.predict(test_binary)\n",
    "\n",
    "print(metrics.classification_report(y_test, nb_predict))\n",
    "accuracy = metrics.accuracy_score(y_test, nb_predict)\n",
    "average_accuracy = np.mean(y_test == nb_predict) * 100\n",
    "print(\"The average_accuracy is {0:.1f}%\".format(average_accuracy))"
   ]
  },
  {
   "cell_type": "code",
   "execution_count": 55,
   "metadata": {
    "collapsed": false
   },
   "outputs": [
    {
     "name": "stdout",
     "output_type": "stream",
     "text": [
      "             precision    recall  f1-score   support\n",
      "\n",
      "          0       0.79      0.83      0.81      1000\n",
      "          1       0.98      0.96      0.97      1000\n",
      "          2       0.80      0.77      0.78      1000\n",
      "          3       0.85      0.91      0.88      1000\n",
      "          4       0.78      0.83      0.80      1000\n",
      "          5       0.93      0.92      0.92      1000\n",
      "          6       0.70      0.60      0.65      1000\n",
      "          7       0.89      0.90      0.90      1000\n",
      "          8       0.95      0.96      0.96      1000\n",
      "          9       0.93      0.93      0.93      1000\n",
      "\n",
      "avg / total       0.86      0.86      0.86     10000\n",
      "\n",
      "The average_accuracy is 86.1%\n"
     ]
    }
   ],
   "source": [
    "svm = SVC()\n",
    "svm.fit(train_binary,y_train)\n",
    "svm_predict = svm.predict(test_binary)\n",
    "\n",
    "print(metrics.classification_report(y_test, svm_predict))\n",
    "accuracy = metrics.accuracy_score(y_test, svm_predict)\n",
    "average_accuracy = np.mean(y_test == svm_predict) * 100\n",
    "print(\"The average_accuracy is {0:.1f}%\".format(average_accuracy))"
   ]
  },
  {
   "cell_type": "markdown",
   "metadata": {},
   "source": [
    "# MLP we use only one layer and 100 neurons\n"
   ]
  },
  {
   "cell_type": "code",
   "execution_count": 56,
   "metadata": {
    "collapsed": false
   },
   "outputs": [
    {
     "name": "stdout",
     "output_type": "stream",
     "text": [
      "             precision    recall  f1-score   support\n",
      "\n",
      "          0       0.79      0.83      0.81      1000\n",
      "          1       0.97      0.97      0.97      1000\n",
      "          2       0.82      0.72      0.77      1000\n",
      "          3       0.88      0.88      0.88      1000\n",
      "          4       0.75      0.79      0.77      1000\n",
      "          5       0.97      0.93      0.95      1000\n",
      "          6       0.66      0.67      0.67      1000\n",
      "          7       0.92      0.92      0.92      1000\n",
      "          8       0.96      0.97      0.96      1000\n",
      "          9       0.92      0.95      0.94      1000\n",
      "\n",
      "avg / total       0.86      0.86      0.86     10000\n",
      "\n",
      "The average_accuracy is 86.3%\n"
     ]
    }
   ],
   "source": [
    "MLP= MLPClassifier()\n",
    "MLP.fit(train_binary,y_train)\n",
    "mlp_predict = MLP.predict(test_binary)\n",
    "\n",
    "print(metrics.classification_report(y_test, mlp_predict))\n",
    "accuracy = metrics.accuracy_score(y_test, mlp_predict)\n",
    "average_accuracy = np.mean(y_test == mlp_predict) * 100\n",
    "print(\"The average_accuracy is {0:.1f}%\".format(average_accuracy))"
   ]
  },
  {
   "cell_type": "code",
   "execution_count": null,
   "metadata": {
    "collapsed": true
   },
   "outputs": [],
   "source": []
  }
 ],
 "metadata": {
  "kernelspec": {
   "display_name": "Python 3",
   "language": "python",
   "name": "python3"
  },
  "language_info": {
   "codemirror_mode": {
    "name": "ipython",
    "version": 3
   },
   "file_extension": ".py",
   "mimetype": "text/x-python",
   "name": "python",
   "nbconvert_exporter": "python",
   "pygments_lexer": "ipython3",
   "version": "3.6.0"
  }
 },
 "nbformat": 4,
 "nbformat_minor": 2
}
