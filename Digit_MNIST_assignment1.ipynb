{
 "cells": [
  {
   "cell_type": "code",
   "execution_count": 3,
   "metadata": {
    "collapsed": false
   },
   "outputs": [],
   "source": [
    "import numpy as np\n",
    "from scipy import misc\n",
    "from sklearn.decomposition import PCA\n",
    "import matplotlib.pyplot as plt\n",
    "import cv2\n",
    "import glob\n",
    "import pandas as pd \n",
    "import matplotlib.pyplot as plt \n",
    "import matplotlib.image as matimage\n",
    "%matplotlib inline \n",
    "\n",
    "X_train = []\n",
    "y_train = []\n",
    "X_test = []\n",
    "y_test = []\n",
    "\n",
    "for i in range(10):\n",
    "    files = glob.glob (\"mnist_png_data/training/%d/*.PNG\" % i)\n",
    "    for myFile in files:\n",
    "        image =  misc.imread(myFile)\n",
    "        X_train.append(image)\n",
    "        y_train.append(i)\n",
    "        \n",
    "        \n",
    "for i in range(10):\n",
    "    files = glob.glob (\"mnist_png_data/testing/%d/*.PNG\" % i)\n",
    "    for myFile in files:\n",
    "        image =  misc.imread(myFile)\n",
    "        X_test.append(image)\n",
    "        y_test.append(i)"
   ]
  },
  {
   "cell_type": "code",
   "execution_count": 4,
   "metadata": {
    "collapsed": false
   },
   "outputs": [
    {
     "name": "stdout",
     "output_type": "stream",
     "text": [
      "First shape of training data: (60000, 28, 28)\n",
      "First shape of test data: (10000, 28, 28)\n",
      "Training data size: (60000, 784)\n",
      "Testing data size: (10000, 784)\n",
      "Labels unique characters:  [0 1 2 3 4 5 6 7 8 9]\n"
     ]
    }
   ],
   "source": [
    "X_train_org = X_train\n",
    "X_test_org = X_test\n",
    "X_train = np.array(X_train)\n",
    "y_train = np.array(y_train)\n",
    "X_test = np.array(X_test)\n",
    "y_test = np.array(y_test)\n",
    "\n",
    "print(\"First shape of training data:\", X_train.shape)\n",
    "print(\"First shape of test data:\", X_test.shape)\n",
    "\n",
    "X_train = np.reshape(X_train, (60000,784))\n",
    "X_test = np.reshape(X_test, (10000,784))\n",
    "\n",
    "print(\"Training data size:\", X_train.shape)\n",
    "print(\"Testing data size:\", X_test.shape)\n",
    "\n",
    "print(\"Labels unique characters: \", np.unique(y_train))"
   ]
  },
  {
   "cell_type": "code",
   "execution_count": 5,
   "metadata": {
    "collapsed": false
   },
   "outputs": [
    {
     "data": {
      "image/png": "[encoded data removed]",
      "text/plain": [
       "<matplotlib.figure.Figure at 0x14880f5db70>"
      ]
     },
     "metadata": {},
     "output_type": "display_data"
    }
   ],
   "source": [
    "n_row = 1\n",
    "n_col = 5\n",
    "plt.figure(figsize=(10,8))\n",
    "for i in list(range(n_row*n_col)):\n",
    "    plt.subplot(n_row, n_col, i+1)\n",
    "    plt.imshow(X_train[i,:].reshape(28,28), cmap=\"gray\")\n",
    "    title_text = \"Image\" + str(i+1)\n",
    "    plt.title(title_text, size=6.5)\n",
    "\n",
    "plt.show()"
   ]
  },
  {
   "cell_type": "markdown",
   "metadata": {},
   "source": [
    "# Preprocessing Normalized all of the datasets"
   ]
  },
  {
   "cell_type": "code",
   "execution_count": 6,
   "metadata": {
    "collapsed": false
   },
   "outputs": [
    {
     "name": "stderr",
     "output_type": "stream",
     "text": [
      "C:\\Users\\Zoloo\\Anaconda3\\lib\\site-packages\\sklearn\\utils\\validation.py:429: DataConversionWarning: Data with input dtype uint8 was converted to float64 by StandardScaler.\n",
      "  warnings.warn(msg, _DataConversionWarning)\n"
     ]
    }
   ],
   "source": [
    "from sklearn.preprocessing import StandardScaler\n",
    "X_train = StandardScaler().fit_transform(X_train)\n",
    "X_test = StandardScaler().fit_transform(X_test)"
   ]
  },
  {
   "cell_type": "code",
   "execution_count": 7,
   "metadata": {
    "collapsed": false
   },
   "outputs": [
    {
     "data": {
      "image/png": "[encoded data removed]",
      "text/plain": [
       "<matplotlib.figure.Figure at 0x1488ad7eba8>"
      ]
     },
     "metadata": {},
     "output_type": "display_data"
    }
   ],
   "source": [
    "n_row = 1\n",
    "n_col = 5\n",
    "plt.figure(figsize=(10,8))\n",
    "for i in list(range(n_row*n_col)):\n",
    "    plt.subplot(n_row, n_col, i+1)\n",
    "    plt.imshow(X_train[i,:].reshape(28,28), cmap=\"gray\")\n",
    "    title_text = \"Image\" + str(i+1)\n",
    "    plt.title(title_text, size=6.5)\n",
    "\n",
    "plt.show()"
   ]
  },
  {
   "cell_type": "markdown",
   "metadata": {},
   "source": [
    "# Find eigenvectors and eigenvalues, compute covariance matrix"
   ]
  },
  {
   "cell_type": "code",
   "execution_count": 8,
   "metadata": {
    "collapsed": false
   },
   "outputs": [
    {
     "data": {
      "text/plain": [
       "(784, 784)"
      ]
     },
     "execution_count": 8,
     "metadata": {},
     "output_type": "execute_result"
    }
   ],
   "source": [
    "mean_vec = np.mean(X_train, axis=0)\n",
    "cov_mat = np.cov(X_train.T)\n",
    "eig_vals, eig_vecs = np.linalg.eig(cov_mat)\n",
    "cov_mat.shape"
   ]
  },
  {
   "cell_type": "code",
   "execution_count": 9,
   "metadata": {
    "collapsed": true
   },
   "outputs": [],
   "source": [
    "eig_pairs = [(np.abs(eig_vals[i]),eig_vecs[:,i]) for i in range(len(eig_vals))]\n",
    "eig_pairs.sort(key = lambda x: x[0], reverse=True)\n",
    "tot = sum(eig_vals)\n",
    "var_exp = [(i/tot)*100 for i in sorted(eig_vals, reverse=True)]\n",
    "cum_var_exp = np.cumsum(var_exp) # Cumulative explained variance"
   ]
  },
  {
   "cell_type": "code",
   "execution_count": 10,
   "metadata": {
    "collapsed": false
   },
   "outputs": [
    {
     "name": "stdout",
     "output_type": "stream",
     "text": [
      "first 400 components average variance: 96.95\n"
     ]
    }
   ],
   "source": [
    "add =0.0\n",
    "for i in range(400):\n",
    "    add+= var_exp[i]\n",
    "\n",
    "print('first 400 components average variance: %.2f' % add)  "
   ]
  },
  {
   "cell_type": "code",
   "execution_count": 11,
   "metadata": {
    "collapsed": false
   },
   "outputs": [
    {
     "data": {
      "image/png": "[encoded data removed]",
      "text/plain": [
       "<matplotlib.figure.Figure at 0x14885710438>"
      ]
     },
     "metadata": {},
     "output_type": "display_data"
    }
   ],
   "source": [
    "size = 400\n",
    "plt.figure(figsize=(6,4))\n",
    "plt.bar(range(size), var_exp[0:size], align='center');\n",
    "plt.xlabel(\"Principal components\")\n",
    "plt.ylabel(\"Explained variance ratio\");"
   ]
  },
  {
   "cell_type": "markdown",
   "metadata": {},
   "source": [
    "# Using PCA reduce dimensionality "
   ]
  },
  {
   "cell_type": "code",
   "execution_count": 12,
   "metadata": {
    "collapsed": true
   },
   "outputs": [],
   "source": [
    "from sklearn.decomposition import PCA\n",
    "\n",
    "n_components = 400\n",
    "pca = PCA(n_components=n_components)\n",
    "X_train_pca = pca.fit_transform(X_train)\n",
    "X_test_pca = pca.fit_transform(X_test)"
   ]
  },
  {
   "cell_type": "code",
   "execution_count": 13,
   "metadata": {
    "collapsed": false
   },
   "outputs": [
    {
     "data": {
      "text/plain": [
       "(400, 784)"
      ]
     },
     "execution_count": 13,
     "metadata": {},
     "output_type": "execute_result"
    }
   ],
   "source": [
    "eigenvalues = pca.components_.reshape(n_components, 28, 28)\n",
    "eigenvalues = pca.components_\n",
    "eigenvalues.shape"
   ]
  },
  {
   "cell_type": "code",
   "execution_count": 14,
   "metadata": {
    "collapsed": false
   },
   "outputs": [
    {
     "data": {
      "image/png": "[encoded data removed]",
      "text/plain": [
       "<matplotlib.figure.Figure at 0x148857e4470>"
      ]
     },
     "metadata": {},
     "output_type": "display_data"
    }
   ],
   "source": [
    "n_row = 1\n",
    "n_col = 5\n",
    "plt.figure(figsize=(10,8))\n",
    "for i in list(range(n_row*n_col)):\n",
    "    plt.subplot(n_row, n_col, i+1)\n",
    "    plt.imshow(eigenvalues[i,:].reshape(28,28), cmap=\"gray\")\n",
    "    title_text = \"Image\" + str(i+1)\n",
    "    plt.title(title_text, size=6.5)\n",
    "\n",
    "plt.show()"
   ]
  },
  {
   "cell_type": "markdown",
   "metadata": {},
   "source": [
    "# Classification "
   ]
  },
  {
   "cell_type": "code",
   "execution_count": 15,
   "metadata": {
    "collapsed": true
   },
   "outputs": [],
   "source": [
    "from sklearn.naive_bayes import GaussianNB\n",
    "from sklearn.svm import SVC\n",
    "from sklearn.neural_network import MLPClassifier\n",
    "from sklearn import metrics"
   ]
  },
  {
   "cell_type": "markdown",
   "metadata": {},
   "source": [
    "# Gaussian classifier "
   ]
  },
  {
   "cell_type": "code",
   "execution_count": 16,
   "metadata": {
    "collapsed": false
   },
   "outputs": [
    {
     "name": "stdout",
     "output_type": "stream",
     "text": [
      "             precision    recall  f1-score   support\n",
      "\n",
      "          0       0.27      0.75      0.40       980\n",
      "          1       0.45      0.95      0.61      1135\n",
      "          2       0.29      0.20      0.23      1032\n",
      "          3       0.14      0.07      0.10      1010\n",
      "          4       0.26      0.32      0.29       982\n",
      "          5       0.14      0.06      0.09       892\n",
      "          6       0.38      0.06      0.11       958\n",
      "          7       0.32      0.12      0.17      1028\n",
      "          8       0.27      0.25      0.26       974\n",
      "          9       0.12      0.07      0.09      1009\n",
      "\n",
      "avg / total       0.27      0.30      0.24     10000\n",
      "\n",
      "The average_accuracy is 29.5%\n"
     ]
    }
   ],
   "source": [
    "gNB = GaussianNB()\n",
    "gNB.fit(X_train_pca,y_train)\n",
    "nb_predict = gNB.predict(X_test_pca)\n",
    "\n",
    "print(metrics.classification_report(y_test, nb_predict))\n",
    "accuracy = metrics.accuracy_score(y_test, nb_predict)\n",
    "average_accuracy = np.mean(y_test == nb_predict) * 100\n",
    "print(\"The average_accuracy is {0:.1f}%\".format(average_accuracy))"
   ]
  },
  {
   "cell_type": "markdown",
   "metadata": {},
   "source": [
    "# SVM classifier with default parameters "
   ]
  },
  {
   "cell_type": "code",
   "execution_count": 17,
   "metadata": {
    "collapsed": false
   },
   "outputs": [
    {
     "name": "stdout",
     "output_type": "stream",
     "text": [
      "             precision    recall  f1-score   support\n",
      "\n",
      "          0       0.85      0.68      0.76       980\n",
      "          1       0.94      0.67      0.78      1135\n",
      "          2       0.37      0.60      0.46      1032\n",
      "          3       0.40      0.37      0.39      1010\n",
      "          4       0.37      0.27      0.31       982\n",
      "          5       0.32      0.24      0.27       892\n",
      "          6       0.88      0.65      0.75       958\n",
      "          7       0.56      0.62      0.59      1028\n",
      "          8       0.34      0.51      0.41       974\n",
      "          9       0.36      0.40      0.38      1009\n",
      "\n",
      "avg / total       0.54      0.51      0.51     10000\n",
      "\n",
      "The average_accuracy is 50.6%\n"
     ]
    }
   ],
   "source": [
    "svm = SVC()\n",
    "svm.fit(X_train_pca,y_train)\n",
    "svm_predict = svm.predict(X_test_pca)\n",
    "\n",
    "print(metrics.classification_report(y_test, svm_predict))\n",
    "accuracy = metrics.accuracy_score(y_test, svm_predict)\n",
    "average_accuracy = np.mean(y_test == svm_predict) * 100\n",
    "print(\"The average_accuracy is {0:.1f}%\".format(average_accuracy))"
   ]
  },
  {
   "cell_type": "markdown",
   "metadata": {},
   "source": [
    "# MLP classifier with default parameters"
   ]
  },
  {
   "cell_type": "code",
   "execution_count": 18,
   "metadata": {
    "collapsed": false
   },
   "outputs": [
    {
     "name": "stdout",
     "output_type": "stream",
     "text": [
      "             precision    recall  f1-score   support\n",
      "\n",
      "          0       0.75      0.66      0.70       980\n",
      "          1       0.74      0.40      0.52      1135\n",
      "          2       0.40      0.46      0.43      1032\n",
      "          3       0.38      0.44      0.41      1010\n",
      "          4       0.36      0.30      0.33       982\n",
      "          5       0.17      0.19      0.18       892\n",
      "          6       0.67      0.57      0.61       958\n",
      "          7       0.47      0.62      0.54      1028\n",
      "          8       0.26      0.31      0.28       974\n",
      "          9       0.22      0.23      0.22      1009\n",
      "\n",
      "avg / total       0.45      0.42      0.43     10000\n",
      "\n",
      "The average_accuracy is 42.0%\n"
     ]
    }
   ],
   "source": [
    "MLP= MLPClassifier()\n",
    "MLP.fit(X_train_pca,y_train)\n",
    "mlp_predict = MLP.predict(X_test_pca)\n",
    "\n",
    "print(metrics.classification_report(y_test, mlp_predict))\n",
    "accuracy = metrics.accuracy_score(y_test, mlp_predict)\n",
    "average_accuracy = np.mean(y_test == mlp_predict) * 100\n",
    "print(\"The average_accuracy is {0:.1f}%\".format(average_accuracy))"
   ]
  },
  {
   "cell_type": "markdown",
   "metadata": {},
   "source": [
    "# Preprocessin binarizer"
   ]
  },
  {
   "cell_type": "code",
   "execution_count": 30,
   "metadata": {
    "collapsed": false
   },
   "outputs": [],
   "source": [
    "from sklearn.preprocessing import Binarizer\n",
    "binarizer = Binarizer()"
   ]
  },
  {
   "cell_type": "code",
   "execution_count": 34,
   "metadata": {
    "collapsed": false
   },
   "outputs": [
    {
     "data": {
      "text/plain": [
       "(60000, 784)"
      ]
     },
     "execution_count": 34,
     "metadata": {},
     "output_type": "execute_result"
    }
   ],
   "source": [
    "train_binary = binarizer.fit_transform(X_train) \n",
    "test_binary = binarizer.fit_transform(X_test)\n",
    "train_binary.shape"
   ]
  },
  {
   "cell_type": "code",
   "execution_count": 33,
   "metadata": {
    "collapsed": false
   },
   "outputs": [
    {
     "data": {
      "image/png": "[encoded data removed]",
      "text/plain": [
       "<matplotlib.figure.Figure at 0x20538aa7cc0>"
      ]
     },
     "metadata": {},
     "output_type": "display_data"
    }
   ],
   "source": [
    "n_row = 1\n",
    "n_col = 5\n",
    "plt.figure(figsize=(10,8))\n",
    "for i in list(range(n_row*n_col)):\n",
    "    plt.subplot(n_row, n_col, i+1)\n",
    "    plt.imshow(train_binary[i,:].reshape(28,28), cmap=\"binary\")\n",
    "    title_text = \"Image\" + str(i+1)\n",
    "    plt.title(title_text, size=6.5)\n",
    "\n",
    "plt.show()"
   ]
  },
  {
   "cell_type": "markdown",
   "metadata": {},
   "source": [
    "# Gaussian classifier "
   ]
  },
  {
   "cell_type": "code",
   "execution_count": 36,
   "metadata": {
    "collapsed": false
   },
   "outputs": [
    {
     "name": "stdout",
     "output_type": "stream",
     "text": [
      "             precision    recall  f1-score   support\n",
      "\n",
      "          0       0.76      0.87      0.81       980\n",
      "          1       0.90      0.92      0.91      1135\n",
      "          2       0.90      0.23      0.37      1032\n",
      "          3       0.66      0.32      0.43      1010\n",
      "          4       0.87      0.14      0.25       982\n",
      "          5       0.50      0.04      0.07       892\n",
      "          6       0.64      0.94      0.76       958\n",
      "          7       0.87      0.25      0.39      1028\n",
      "          8       0.28      0.69      0.39       974\n",
      "          9       0.37      0.94      0.53      1009\n",
      "\n",
      "avg / total       0.68      0.54      0.50     10000\n",
      "\n",
      "The average_accuracy is 54.2%\n"
     ]
    }
   ],
   "source": [
    "gNB = GaussianNB()\n",
    "gNB.fit(train_binary,y_train)\n",
    "nb_predict = gNB.predict(test_binary)\n",
    "\n",
    "print(metrics.classification_report(y_test, nb_predict))\n",
    "accuracy = metrics.accuracy_score(y_test, nb_predict)\n",
    "average_accuracy = np.mean(y_test == nb_predict) * 100\n",
    "print(\"The average_accuracy is {0:.1f}%\".format(average_accuracy))"
   ]
  },
  {
   "cell_type": "code",
   "execution_count": 37,
   "metadata": {
    "collapsed": false
   },
   "outputs": [
    {
     "name": "stdout",
     "output_type": "stream",
     "text": [
      "             precision    recall  f1-score   support\n",
      "\n",
      "          0       0.96      0.99      0.97       980\n",
      "          1       0.97      0.99      0.98      1135\n",
      "          2       0.95      0.94      0.94      1032\n",
      "          3       0.93      0.94      0.93      1010\n",
      "          4       0.93      0.95      0.94       982\n",
      "          5       0.94      0.91      0.92       892\n",
      "          6       0.95      0.97      0.96       958\n",
      "          7       0.95      0.93      0.94      1028\n",
      "          8       0.94      0.91      0.93       974\n",
      "          9       0.94      0.91      0.93      1009\n",
      "\n",
      "avg / total       0.95      0.95      0.95     10000\n",
      "\n",
      "The average_accuracy is 94.6%\n"
     ]
    }
   ],
   "source": [
    "svm = SVC()\n",
    "svm.fit(train_binary,y_train)\n",
    "svm_predict = svm.predict(test_binary)\n",
    "\n",
    "print(metrics.classification_report(y_test, svm_predict))\n",
    "accuracy = metrics.accuracy_score(y_test, svm_predict)\n",
    "average_accuracy = np.mean(y_test == svm_predict) * 100\n",
    "print(\"The average_accuracy is {0:.1f}%\".format(average_accuracy))"
   ]
  },
  {
   "cell_type": "markdown",
   "metadata": {},
   "source": [
    "# MLP we use only one layer and 100 neurons"
   ]
  },
  {
   "cell_type": "code",
   "execution_count": 41,
   "metadata": {
    "collapsed": false
   },
   "outputs": [
    {
     "name": "stdout",
     "output_type": "stream",
     "text": [
      "             precision    recall  f1-score   support\n",
      "\n",
      "          0       0.98      0.99      0.98       980\n",
      "          1       0.99      0.99      0.99      1135\n",
      "          2       0.98      0.97      0.97      1032\n",
      "          3       0.98      0.98      0.98      1010\n",
      "          4       0.97      0.98      0.97       982\n",
      "          5       0.99      0.97      0.98       892\n",
      "          6       0.98      0.98      0.98       958\n",
      "          7       0.97      0.97      0.97      1028\n",
      "          8       0.95      0.97      0.96       974\n",
      "          9       0.97      0.96      0.96      1009\n",
      "\n",
      "avg / total       0.97      0.97      0.97     10000\n",
      "\n",
      "The average_accuracy is 97.5%\n"
     ]
    }
   ],
   "source": [
    "MLP= MLPClassifier()\n",
    "MLP.fit(train_binary,y_train)\n",
    "mlp_predict = MLP.predict(test_binary)\n",
    "\n",
    "print(metrics.classification_report(y_test, mlp_predict))\n",
    "accuracy = metrics.accuracy_score(y_test, mlp_predict)\n",
    "average_accuracy = np.mean(y_test == mlp_predict) * 100\n",
    "print(\"The average_accuracy is {0:.1f}%\".format(average_accuracy))"
   ]
  },
  {
   "cell_type": "code",
   "execution_count": null,
   "metadata": {
    "collapsed": true
   },
   "outputs": [],
   "source": []
  }
 ],
 "metadata": {
  "kernelspec": {
   "display_name": "Python 3",
   "language": "python",
   "name": "python3"
  },
  "language_info": {
   "codemirror_mode": {
    "name": "ipython",
    "version": 3
   },
   "file_extension": ".py",
   "mimetype": "text/x-python",
   "name": "python",
   "nbconvert_exporter": "python",
   "pygments_lexer": "ipython3",
   "version": "3.6.0"
  }
 },
 "nbformat": 4,
 "nbformat_minor": 2
}
